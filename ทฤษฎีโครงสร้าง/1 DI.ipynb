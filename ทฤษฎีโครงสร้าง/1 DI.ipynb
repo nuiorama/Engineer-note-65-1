{
 "cells": [
  {
   "attachments": {},
   "cell_type": "markdown",
   "metadata": {},
   "source": [
    "![](img/2023-01-05-17-54-56.png)\n",
    "\n",
    "r=3n    Determinate\n",
    "\n",
    "r>3n    Indeterminate\n",
    "\n",
    "r-3n    = DI: Degree of Ineterminate\n",
    "\n",
    "r: Reaction\n",
    "\n",
    "n: จำนวนคาน"
   ]
  }
 ],
 "metadata": {
  "kernelspec": {
   "display_name": "py10",
   "language": "python",
   "name": "python3"
  },
  "language_info": {
   "name": "python",
   "version": "3.10.6 | packaged by conda-forge | (main, Aug 22 2022, 20:29:51) [MSC v.1929 64 bit (AMD64)]"
  },
  "orig_nbformat": 4,
  "vscode": {
   "interpreter": {
    "hash": "65804c87e60a5b78920b1b9a0b766019d5bfb4aea38a40ed60e26ac3af3a5059"
   }
  }
 },
 "nbformat": 4,
 "nbformat_minor": 2
}
