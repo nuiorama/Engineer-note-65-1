{
 "cells": [
  {
   "cell_type": "code",
   "execution_count": 1,
   "metadata": {},
   "outputs": [
    {
     "data": {
      "text/latex": [
       "$\\displaystyle \\frac{16}{3}$"
      ],
      "text/plain": [
       "16/3"
      ]
     },
     "execution_count": 1,
     "metadata": {},
     "output_type": "execute_result"
    }
   ],
   "source": [
    "from sympy.vector import CoordSys3D\n",
    "from sympy.abc import x, y, z, t\n",
    "from sympy import diff, integrate\n",
    "N = CoordSys3D('N')\n",
    "def F(x,y,z):\n",
    "    # F = zxi + xj + yk\n",
    "    return z*x*N.i +x*N.j +y*N.k\n",
    "def F_t(l):\n",
    "    x,y,z = (l.dot(N.i), l.dot(N.j), l.dot(N.k))\n",
    "    return F(x,y,z)\n",
    "def line_integrate(l,F):\n",
    "    dl = diff(l,t)\n",
    "    return integrate(F_t(l).dot(dl),(t,0,1))    \n",
    "#r(t) = 3ti +t^2j + tk\n",
    "curve = 3*t*N.i + t**2*N.j + t*N.k\n",
    "line_integrate(curve,F)"
   ]
  }
 ],
 "metadata": {
  "kernelspec": {
   "display_name": "Python 3.10.6 64-bit",
   "language": "python",
   "name": "python3"
  },
  "language_info": {
   "codemirror_mode": {
    "name": "ipython",
    "version": 3
   },
   "file_extension": ".py",
   "mimetype": "text/x-python",
   "name": "python",
   "nbconvert_exporter": "python",
   "pygments_lexer": "ipython3",
   "version": "3.10.6"
  },
  "orig_nbformat": 4,
  "vscode": {
   "interpreter": {
    "hash": "65804c87e60a5b78920b1b9a0b766019d5bfb4aea38a40ed60e26ac3af3a5059"
   }
  }
 },
 "nbformat": 4,
 "nbformat_minor": 2
}
