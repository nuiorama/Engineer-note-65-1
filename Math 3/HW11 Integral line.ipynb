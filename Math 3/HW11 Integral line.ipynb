{
 "cells": [
  {
   "cell_type": "code",
   "execution_count": 2,
   "metadata": {},
   "outputs": [
    {
     "data": {
      "text/latex": [
       "$\\displaystyle \\frac{89}{60}$"
      ],
      "text/plain": [
       "89/60"
      ]
     },
     "execution_count": 2,
     "metadata": {},
     "output_type": "execute_result"
    }
   ],
   "source": [
    "from sympy.vector import CoordSys3D\n",
    "from sympy.abc import x, y, z, t\n",
    "from sympy import diff, integrate\n",
    "N = CoordSys3D('N')\n",
    "def F(x,y,z):\n",
    "    # F = zxi + xj + yk\n",
    "    return y*N.i +z*N.j +x*N.k\n",
    "def F_t(l):\n",
    "    x,y,z = (l.dot(N.i), l.dot(N.j), l.dot(N.k))\n",
    "    return F(x,y,z)\n",
    "def line_integrate(l,F):\n",
    "    dl = diff(l,t)\n",
    "    return integrate(F_t(l).dot(dl),(t,0,1))    \n",
    "#r(t) = 3ti +t^2j + tk\n",
    "curve = t*N.i + t**2*N.j + t**3*N.k\n",
    "line_integrate(curve,F)"
   ]
  },
  {
   "cell_type": "code",
   "execution_count": 4,
   "metadata": {},
   "outputs": [
    {
     "data": {
      "text/latex": [
       "$\\displaystyle \\frac{11}{2}$"
      ],
      "text/plain": [
       "11/2"
      ]
     },
     "execution_count": 4,
     "metadata": {},
     "output_type": "execute_result"
    }
   ],
   "source": [
    "def F(x,y,z):\n",
    "    # F = zxi + xj + yk\n",
    "    return y*N.i +z*N.j +x*N.k\n",
    "def F_t(l):\n",
    "    x,y,z = (l.dot(N.i), l.dot(N.j), l.dot(N.k))\n",
    "    return F(x,y,z)\n",
    "def line_integrate(l,F):\n",
    "    dl = diff(l,t)\n",
    "    return integrate(F_t(l).dot(dl),(t,0,1))    \n",
    "#r(t) = 3ti +t^2j + tk\n",
    "curve = t*N.i + 2*t*N.j + 3*t*N.k\n",
    "line_integrate(curve,F)\n"
   ]
  },
  {
   "cell_type": "code",
   "execution_count": 10,
   "metadata": {},
   "outputs": [
    {
     "data": {
      "text/plain": [
       "0.6239272670256102"
      ]
     },
     "execution_count": 10,
     "metadata": {},
     "output_type": "execute_result"
    }
   ],
   "source": [
    "from math import sqrt\n",
    "(sqrt(1-.25**2)+sqrt(1-.50**2)+sqrt(1-.75**2)+0)*.25"
   ]
  },
  {
   "cell_type": "code",
   "execution_count": 9,
   "metadata": {},
   "outputs": [
    {
     "data": {
      "text/latex": [
       "$\\displaystyle 0.785398163397448$"
      ],
      "text/plain": [
       "0.785398163397448"
      ]
     },
     "execution_count": 9,
     "metadata": {},
     "output_type": "execute_result"
    }
   ],
   "source": [
    "from sympy import sqrt\n",
    "integrate(sqrt(1-x**2),(x,0,1)).evalf()"
   ]
  }
 ],
 "metadata": {
  "kernelspec": {
   "display_name": "Python 3.10.6 64-bit",
   "language": "python",
   "name": "python3"
  },
  "language_info": {
   "codemirror_mode": {
    "name": "ipython",
    "version": 3
   },
   "file_extension": ".py",
   "mimetype": "text/x-python",
   "name": "python",
   "nbconvert_exporter": "python",
   "pygments_lexer": "ipython3",
   "version": "3.10.6 | packaged by conda-forge | (main, Aug 22 2022, 20:29:51) [MSC v.1929 64 bit (AMD64)]"
  },
  "orig_nbformat": 4,
  "vscode": {
   "interpreter": {
    "hash": "65804c87e60a5b78920b1b9a0b766019d5bfb4aea38a40ed60e26ac3af3a5059"
   }
  }
 },
 "nbformat": 4,
 "nbformat_minor": 2
}
