{
 "cells": [
  {
   "cell_type": "markdown",
   "metadata": {},
   "source": [
    "![](img/2022-11-11-09-31-38.png) <br>\n",
    "![](img/2022-11-11-09-32-02.png)"
   ]
  },
  {
   "cell_type": "code",
   "execution_count": 2,
   "metadata": {},
   "outputs": [
    {
     "name": "stdout",
     "output_type": "stream",
     "text": [
      "I=29.68\n",
      "M = 450.0*w\n",
      "sigma = 60.6469002695418*w\n",
      "w = 263.822222222222\n",
      "v = 7914.66666666666\n",
      "F = 4714.66666666667\n",
      "tau = 5338.61759849021 pound/inch^2\n"
     ]
    }
   ],
   "source": [
    "# table 4I-7.7\n",
    "a = 2.21\n",
    "dept = 4\n",
    "B = 2.66   # width of flank\n",
    "b = 0.19\n",
    "i = 6\n",
    "max_sigma = 16_000\n",
    "e = 4\n",
    "d = 3/4\n",
    "l = 5 *12\n",
    "\n",
    "# Calc\n",
    "from sympy import *\n",
    "w = symbols(\"w\")\n",
    "A = 2*a\n",
    "Q = a*dept/2\n",
    "c = dept\n",
    "t = B\n",
    "# I = sum(I+ad**2)\n",
    "I = 2*(i+a*(dept/2)**2)\n",
    "print(f\"I={I}\")\n",
    "# moment-triangle = 0.5*h*b\n",
    "p = w*l\n",
    "R1 = p/2\n",
    "M = 0.5*(p/2)*(l/2)\n",
    "print(f\"M = {M}\")\n",
    "sigma = M*c/I\n",
    "print(f\"sigma = {sigma}\")\n",
    "w, = solve(Eq(sigma,max_sigma), w)\n",
    "print(f\"w = {w}\")\n",
    "v = w*l/2\n",
    "print(f\"v = {v}\")\n",
    "F = v*e/I*Q\n",
    "print(f\"F = {F}\")\n",
    "#tau = F/A\n",
    "tau = F/(2*(1/4)*3.14*d**2)\n",
    "print(f\"tau = {tau} pound/inch^2\")"
   ]
  }
 ],
 "metadata": {
  "kernelspec": {
   "display_name": "Python 3.10.6 64-bit",
   "language": "python",
   "name": "python3"
  },
  "language_info": {
   "codemirror_mode": {
    "name": "ipython",
    "version": 3
   },
   "file_extension": ".py",
   "mimetype": "text/x-python",
   "name": "python",
   "nbconvert_exporter": "python",
   "pygments_lexer": "ipython3",
   "version": "3.10.6"
  },
  "orig_nbformat": 4,
  "vscode": {
   "interpreter": {
    "hash": "65804c87e60a5b78920b1b9a0b766019d5bfb4aea38a40ed60e26ac3af3a5059"
   }
  }
 },
 "nbformat": 4,
 "nbformat_minor": 2
}
