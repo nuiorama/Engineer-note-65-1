{
 "cells": [
  {
   "cell_type": "markdown",
   "metadata": {},
   "source": [
    "![](img/2022-11-11-09-53-59.png)"
   ]
  },
  {
   "cell_type": "code",
   "execution_count": 2,
   "metadata": {},
   "outputs": [
    {
     "name": "stdout",
     "output_type": "stream",
     "text": [
      "A=0.0006\n",
      "Ix=8e-08\n",
      "Iy=1.125e-08\n",
      "P_crx=460581.5387175035\n",
      "P_cry=259077.11552859558\n",
      "use min P_cr=259077.11552859558\n",
      "sigma=431.795 M\n",
      "sigma<sigma_y OK!\n",
      "P_allow=148.044 kN\n"
     ]
    }
   ],
   "source": [
    "E = 210e9\n",
    "sigma_y = 700e6\n",
    "FS = 1.75\n",
    "b = 0.015\n",
    "h = 0.040\n",
    "L = 0.6\n",
    "\n",
    "from math import pi, sqrt\n",
    "from matplotlib.ticker import EngFormatter\n",
    "eng = lambda n: EngFormatter()(n)\n",
    "\n",
    "A = b*h\n",
    "Ix = b*h**3/12\n",
    "Iy = h*b**3/12\n",
    "print(f\"A={A}\")\n",
    "print(f\"Ix={Ix:5g}\")\n",
    "print(f\"Iy={Iy:5g}\")\n",
    "\n",
    "# x-x k=1\n",
    "kx = 1\n",
    "P_crx = pi**2*E*Ix/(kx*L)**2\n",
    "print(f\"P_crx={P_crx}\")\n",
    "# y-y k=0.5\n",
    "ky = 0.5\n",
    "P_cry = pi**2*E*Iy/(ky*L)**2\n",
    "print(f\"P_cry={P_cry}\")\n",
    "P_cr = min(P_crx, P_cry)\n",
    "print(f\"use min P_cr={P_cr}\")\n",
    "# sigma = p/A\n",
    "sigma = P_cr/A\n",
    "print(f\"sigma={eng(sigma)}\")\n",
    "if sigma<sigma_y:\n",
    "\tprint(\"sigma<sigma_y OK!\")\n",
    "else:\n",
    "\tprint(\"sigma>sigma_y USE sigma_y\")\n",
    "\tsigma = sigma_y\n",
    "P_allow = P_cr/FS\n",
    "print(f\"P_allow={eng(P_allow)}N\")"
   ]
  }
 ],
 "metadata": {
  "kernelspec": {
   "display_name": "Python 3.10.6 64-bit",
   "language": "python",
   "name": "python3"
  },
  "language_info": {
   "codemirror_mode": {
    "name": "ipython",
    "version": 3
   },
   "file_extension": ".py",
   "mimetype": "text/x-python",
   "name": "python",
   "nbconvert_exporter": "python",
   "pygments_lexer": "ipython3",
   "version": "3.10.6"
  },
  "orig_nbformat": 4,
  "vscode": {
   "interpreter": {
    "hash": "65804c87e60a5b78920b1b9a0b766019d5bfb4aea38a40ed60e26ac3af3a5059"
   }
  }
 },
 "nbformat": 4,
 "nbformat_minor": 2
}
