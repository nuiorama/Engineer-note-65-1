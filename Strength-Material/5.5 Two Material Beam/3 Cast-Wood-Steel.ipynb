{
 "cells": [
  {
   "cell_type": "markdown",
   "metadata": {},
   "source": [
    "![](img/2022-11-11-09-42-23.png)"
   ]
  },
  {
   "cell_type": "code",
   "execution_count": 1,
   "metadata": {},
   "outputs": [
    {
     "name": "stdout",
     "output_type": "stream",
     "text": [
      "Bc=4.0\n",
      "Bw=0.4\n",
      "centroid=5.726851851851852, 7.523148148148148\n",
      "I=284.469212962963\n",
      "sigma_c=6089.846153846155\n"
     ]
    }
   ],
   "source": [
    "B = 8\n",
    "hw = 12\n",
    "hc = 1\n",
    "hs = 1/4\n",
    "HH = hw+hc+hs\n",
    "\n",
    "Ec = 15e6\n",
    "Es = 30e6\n",
    "Ew = 1.5e6\n",
    "bs = B\n",
    "bc = Ec/Es *B\n",
    "bw = Ew/Es *B\n",
    "print(f\"Bc={bc}\")\n",
    "print(f\"Bw={bw}\")\n",
    "\n",
    "sigma_s = 16_000\n",
    "# sigma = mc/I\n",
    "c1 = hc*bc*(hc/2) +bw*hw*(hc+hw/2) +bs*hs*(hc+hw+hs/2)\n",
    "c1 = c1/(hc*bc +bw*hw +bs*hs)\n",
    "c2 = HH-c1\n",
    "print(f\"centroid={c1}, {c2}\")\n",
    "I =  (bc/3)*(c1**3-(c1-hc)**3)\n",
    "I += (bw/3)*((c1-hc)**3 + (c2-hs)**3)\n",
    "I += (bs/3)*(c2**3 - (c2-hs)**3)\n",
    "print(f\"I={I}\")\n",
    "\n",
    "m = sigma_s*I/c2\n",
    "#calc sigma_c\n",
    "sigma_s2 = m*c1/I\n",
    "sigma_c = Ec/Es *sigma_s2\n",
    "print(f\"sigma_c={sigma_c}\")"
   ]
  }
 ],
 "metadata": {
  "kernelspec": {
   "display_name": "Python 3.10.6 64-bit",
   "language": "python",
   "name": "python3"
  },
  "language_info": {
   "codemirror_mode": {
    "name": "ipython",
    "version": 3
   },
   "file_extension": ".py",
   "mimetype": "text/x-python",
   "name": "python",
   "nbconvert_exporter": "python",
   "pygments_lexer": "ipython3",
   "version": "3.10.6"
  },
  "orig_nbformat": 4,
  "vscode": {
   "interpreter": {
    "hash": "65804c87e60a5b78920b1b9a0b766019d5bfb4aea38a40ed60e26ac3af3a5059"
   }
  }
 },
 "nbformat": 4,
 "nbformat_minor": 2
}
