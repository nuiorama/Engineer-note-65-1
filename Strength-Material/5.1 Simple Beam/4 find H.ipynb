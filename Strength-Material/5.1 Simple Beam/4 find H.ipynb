{
 "cells": [
  {
   "cell_type": "markdown",
   "metadata": {},
   "source": [
    "![5.1.4](img/5.1.4.png)"
   ]
  },
  {
   "cell_type": "code",
   "execution_count": 4,
   "metadata": {},
   "outputs": [
    {
     "data": {
      "text/plain": [
       "(6000.00000000000, 6000.00000000000)"
      ]
     },
     "execution_count": 4,
     "metadata": {},
     "output_type": "execute_result"
    }
   ],
   "source": [
    "from sympy import *\n",
    "l = 12 *12     # feet to inch\n",
    "w = 1000 /12   # per-feet to per-inch\n",
    "h = symbols(\"h\")\n",
    "b = h/2\n",
    "sigma = 1200   # pound/inch^2\n",
    "#--------------------\n",
    "E, I = symbols('E, I')\n",
    "R1, R2 = symbols('R1, R2')\n",
    "from sympy.physics.continuum_mechanics.beam import Beam\n",
    "bm = Beam(l, E, I)\n",
    "bm.apply_load(R1, 0, -1)\n",
    "bm.apply_load(w, 0, 0, end=l)\n",
    "bm.apply_load(R2, l, -1)\n",
    "\n",
    "# find reaction load at A, B\n",
    "bm.bc_deflection = [(0, 0), (l, 0)]\n",
    "bm.solve_for_reaction_loads(R1, R2)\n",
    "# reverse direction\n",
    "A, B = ( -x for x in bm.reaction_loads.values())\n",
    "A, B"
   ]
  },
  {
   "cell_type": "code",
   "execution_count": 7,
   "metadata": {},
   "outputs": [
    {
     "name": "stdout",
     "output_type": "stream",
     "text": [
      "moment=216000\n"
     ]
    }
   ],
   "source": [
    "# max moment\n",
    "B = A-w*l/2\n",
    "m = (1/2)*(A+B)*(l/2)\n",
    "print(f\"moment={m:.0f}\")"
   ]
  },
  {
   "cell_type": "code",
   "execution_count": 8,
   "metadata": {},
   "outputs": [
    {
     "name": "stdout",
     "output_type": "stream",
     "text": [
      "Z=h**3/12\n",
      "h=12.93\n"
     ]
    }
   ],
   "source": [
    "# sigma = M/z\n",
    "z = b*h**2/S(6)\n",
    "print(f\"Z={z}\")\n",
    "vh,*_ = solve(Eq(sigma, m/z), h)\n",
    "print(f\"h={vh:.2f}\")"
   ]
  }
 ],
 "metadata": {
  "kernelspec": {
   "display_name": "Python 3.10.6 64-bit",
   "language": "python",
   "name": "python3"
  },
  "language_info": {
   "codemirror_mode": {
    "name": "ipython",
    "version": 3
   },
   "file_extension": ".py",
   "mimetype": "text/x-python",
   "name": "python",
   "nbconvert_exporter": "python",
   "pygments_lexer": "ipython3",
   "version": "3.10.6"
  },
  "orig_nbformat": 4,
  "vscode": {
   "interpreter": {
    "hash": "65804c87e60a5b78920b1b9a0b766019d5bfb4aea38a40ed60e26ac3af3a5059"
   }
  }
 },
 "nbformat": 4,
 "nbformat_minor": 2
}
