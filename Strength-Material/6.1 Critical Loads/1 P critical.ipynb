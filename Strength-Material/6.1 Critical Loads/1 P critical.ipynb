{
 "cells": [
  {
   "cell_type": "markdown",
   "metadata": {},
   "source": [
    "![](img/2022-11-11-09-44-23.png) <br>\n",
    "![](img/2022-11-11-09-44-39.png)"
   ]
  },
  {
   "cell_type": "code",
   "execution_count": 3,
   "metadata": {},
   "outputs": [
    {
     "name": "stdout",
     "output_type": "stream",
     "text": [
      "I=5.990040624999992e-06\n",
      "p=227.853 k\n",
      "sigma=100.089 M\n",
      "r=0.051295711321707974\n",
      "L/r=140.36261150263087\n"
     ]
    }
   ],
   "source": [
    "l = 7.2\n",
    "R = 75 /1000\n",
    "r = 70 /1000\n",
    "E = 200e9\n",
    "pi = 3.14\n",
    "\n",
    "# p = pi**2RI/L**2\n",
    "I = pi/4*(R**4-r**4)\n",
    "p = pi**2*E*I/l**2\n",
    "A = pi*(R**2-r**2)\n",
    "sigma = p/A\n",
    "from matplotlib.ticker import EngFormatter\n",
    "eng = lambda n: EngFormatter()(n)\n",
    "print(f\"I={I}\")\n",
    "print(f\"p={eng(p)}\")\n",
    "print(f\"sigma={eng(sigma)}\")\n",
    "\n",
    "# radius of gyration\n",
    "r = (I/A)**0.5\n",
    "print(f\"r={r}\")\n",
    "print(f\"L/r={l/r}\")"
   ]
  }
 ],
 "metadata": {
  "kernelspec": {
   "display_name": "Python 3.10.6 64-bit",
   "language": "python",
   "name": "python3"
  },
  "language_info": {
   "codemirror_mode": {
    "name": "ipython",
    "version": 3
   },
   "file_extension": ".py",
   "mimetype": "text/x-python",
   "name": "python",
   "nbconvert_exporter": "python",
   "pygments_lexer": "ipython3",
   "version": "3.10.6"
  },
  "orig_nbformat": 4,
  "vscode": {
   "interpreter": {
    "hash": "65804c87e60a5b78920b1b9a0b766019d5bfb4aea38a40ed60e26ac3af3a5059"
   }
  }
 },
 "nbformat": 4,
 "nbformat_minor": 2
}
