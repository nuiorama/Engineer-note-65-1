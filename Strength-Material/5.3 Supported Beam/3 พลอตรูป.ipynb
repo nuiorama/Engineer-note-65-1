{
 "cells": [
  {
   "cell_type": "markdown",
   "metadata": {},
   "source": [
    "![](img/2022-11-11-09-26-53.png)"
   ]
  },
  {
   "cell_type": "code",
   "execution_count": 2,
   "metadata": {},
   "outputs": [
    {
     "name": "stdout",
     "output_type": "stream",
     "text": [
      "I=9.098666666666667e-05\n",
      "Q=0.00045200000000000004\n",
      "tau=17.3872 M Pa\n",
      "tau_plan=1.69256 M Pa\n",
      "tau_web =13.5404 M Pa\n",
      "tau_av =16.1049 M Pa\n",
      "v_web =64.4197 k N\n",
      "%web =92.03 %\n"
     ]
    }
   ],
   "source": [
    "v=70_000\n",
    "B=0.160\n",
    "b=0.020\n",
    "H=0.200\n",
    "h=0.020\n",
    "#-------\n",
    "from matplotlib.ticker import EngFormatter\n",
    "e = lambda n: EngFormatter()(n)\n",
    "\n",
    "c=(H+2*h)/2\n",
    "I=(1/12)*B*(H+2*h)**3 - (2/12)*((B-b)/2)*H**3\n",
    "print(f\"I={I}\")\n",
    "# Q=sum(A'y') เหนือแกนสะเทิน\n",
    "Q=B*h*(c-h/2) + (H*b/2)*(H/4)\n",
    "print(f\"Q={Q}\")\n",
    "tau=v*Q/(I*b)\n",
    "print(f\"tau={e(tau)} Pa\")\n",
    "\n",
    "#จุดต่อ หน้าแปลน - เว็บ\n",
    "Q=B*h*(H/2+h/2)\n",
    "tau_plan = v*Q/(I*B)\n",
    "tau_web  = v*Q/(I*b)\n",
    "print(f\"tau_plan={e(tau_plan)} Pa\")\n",
    "print(f\"tau_web ={e(tau_web)} Pa\")\n",
    "\n",
    "# tau_av \n",
    "tau_max = tau\n",
    "tau_av = tau_web + 2/3*(tau_max -tau_web)\n",
    "print(f\"tau_av ={e(tau_av)} Pa\")\n",
    "# v_web = A*tau\n",
    "v_web = (H*b)*tau_av\n",
    "print(f\"v_web ={e(v_web)} N\")\n",
    "percent_web = v_web/v*100\n",
    "print(f\"%web ={percent_web:.2f} %\")\n"
   ]
  }
 ],
 "metadata": {
  "kernelspec": {
   "display_name": "Python 3.10.6 64-bit",
   "language": "python",
   "name": "python3"
  },
  "language_info": {
   "codemirror_mode": {
    "name": "ipython",
    "version": 3
   },
   "file_extension": ".py",
   "mimetype": "text/x-python",
   "name": "python",
   "nbconvert_exporter": "python",
   "pygments_lexer": "ipython3",
   "version": "3.10.6"
  },
  "orig_nbformat": 4,
  "vscode": {
   "interpreter": {
    "hash": "65804c87e60a5b78920b1b9a0b766019d5bfb4aea38a40ed60e26ac3af3a5059"
   }
  }
 },
 "nbformat": 4,
 "nbformat_minor": 2
}
