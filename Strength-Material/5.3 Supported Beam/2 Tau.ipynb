{
 "cells": [
  {
   "cell_type": "markdown",
   "metadata": {},
   "source": [
    "![](img/2022-11-11-09-08-17.png)"
   ]
  },
  {
   "cell_type": "code",
   "execution_count": 5,
   "metadata": {},
   "outputs": [
    {
     "name": "stdout",
     "output_type": "stream",
     "text": [
      "centroid = [0.016, 0.044]\n",
      "I = 4.70016e-07 m^4\n",
      "sigma = 168.505 MPa\n",
      "tau = 12.357 MPa\n"
     ]
    }
   ],
   "source": [
    "v = 6000  #N\n",
    "x = 0.300 #m\n",
    "m = v*x   #N-m\n",
    "#---centroid\n",
    "B=0.096\n",
    "b=0.012\n",
    "H=0.048\n",
    "h=0.012\n",
    "\n",
    "c1 = ( 0.5*h*B*h + (h+0.5*H)*(b*H) )/(B*h+b*H)\n",
    "c2 = h+H-c1\n",
    "print(f\"centroid = [{c1:.3f}, {c2:.3f}]\")\n",
    "# I = sum (I+AD**2)\n",
    "I = (B*h**3/12+B*h*(c1-h/2)**2)+(b*H**3/12+b*H*(c2-H/2)**2)\n",
    "print(f\"I = {I} m^4\")\n",
    "\n",
    "# sigma = MC/I\n",
    "# บน-แรงดึง  ล่าง-แรงกด\n",
    "sigma = m*c2/I\n",
    "\n",
    "# tau = VQ/Ib\n",
    "# Q = A'y'   คิด Q ใต้แกนสะเทิน\n",
    "Q = (b*c2)*(c2/2)\n",
    "tau = v*Q/(I*b)\n",
    "\n",
    "from matplotlib.ticker import EngFormatter\n",
    "e = lambda n: EngFormatter()(n)\n",
    "print(f\"sigma = {e(sigma)}Pa\")\n",
    "print(f\"tau = {e(tau)}Pa\")"
   ]
  }
 ],
 "metadata": {
  "kernelspec": {
   "display_name": "Python 3.10.6 64-bit",
   "language": "python",
   "name": "python3"
  },
  "language_info": {
   "codemirror_mode": {
    "name": "ipython",
    "version": 3
   },
   "file_extension": ".py",
   "mimetype": "text/x-python",
   "name": "python",
   "nbconvert_exporter": "python",
   "pygments_lexer": "ipython3",
   "version": "3.10.6"
  },
  "orig_nbformat": 4,
  "vscode": {
   "interpreter": {
    "hash": "65804c87e60a5b78920b1b9a0b766019d5bfb4aea38a40ed60e26ac3af3a5059"
   }
  }
 },
 "nbformat": 4,
 "nbformat_minor": 2
}
