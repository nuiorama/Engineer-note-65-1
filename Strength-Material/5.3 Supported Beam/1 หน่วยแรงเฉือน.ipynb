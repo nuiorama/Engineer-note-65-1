{
 "cells": [
  {
   "cell_type": "markdown",
   "metadata": {},
   "source": [
    "![](img/2022-11-11-08-58-45.png) <br>\n",
    ">$\\tau = VQ/Ib$ <br>\n",
    ">$\\tau_(max) = 2V/3BH$"
   ]
  },
  {
   "cell_type": "code",
   "execution_count": 2,
   "metadata": {},
   "outputs": [
    {
     "name": "stdout",
     "output_type": "stream",
     "text": [
      "Vx=8 kN\n",
      "I=5.8319999999999984e-05 m^4\n",
      "Q=0.00027 m^3\n",
      "tau = 308.6419753086421 kPa\n",
      "tau_max = 833.333 kPa\n"
     ]
    }
   ],
   "source": [
    "R1 = 12\n",
    "R2 = 12\n",
    "w = 4\n",
    "x = 1\n",
    "B=0.120\n",
    "H=0.180\n",
    "h = 0.030\n",
    "\n",
    "# tau = VQ/Ib\n",
    "# V\n",
    "v0 = R1\n",
    "vx = v0-w*x\n",
    "print(f\"Vx={vx} kN\")\n",
    "# I\n",
    "I = (1/12)*B*H**3\n",
    "print(f\"I={I} m^4\")\n",
    "# Q = sum(A'y')\n",
    "c = H/2\n",
    "Q = B*h*(c-h/2)\n",
    "print(f\"Q={Q} m^3\")\n",
    "tau = vx*Q/(I*B)\n",
    "print(f\"tau = {tau} kPa\")\n",
    "# tau_max = 3V/2A\n",
    "tau_max = 3*v0/(2*B*H)\n",
    "print(f\"tau_max = {tau_max:.3f} kPa\")"
   ]
  }
 ],
 "metadata": {
  "kernelspec": {
   "display_name": "Python 3.10.6 64-bit",
   "language": "python",
   "name": "python3"
  },
  "language_info": {
   "codemirror_mode": {
    "name": "ipython",
    "version": 3
   },
   "file_extension": ".py",
   "mimetype": "text/x-python",
   "name": "python",
   "nbconvert_exporter": "python",
   "pygments_lexer": "ipython3",
   "version": "3.10.6"
  },
  "orig_nbformat": 4,
  "vscode": {
   "interpreter": {
    "hash": "65804c87e60a5b78920b1b9a0b766019d5bfb4aea38a40ed60e26ac3af3a5059"
   }
  }
 },
 "nbformat": 4,
 "nbformat_minor": 2
}
