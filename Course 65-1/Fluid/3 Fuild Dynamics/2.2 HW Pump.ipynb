{
 "cells": [
  {
   "cell_type": "markdown",
   "metadata": {},
   "source": [
    "![](img/2022-11-11-13-56-30.png)"
   ]
  },
  {
   "cell_type": "code",
   "execution_count": 1,
   "metadata": {},
   "outputs": [
    {
     "name": "stdout",
     "output_type": "stream",
     "text": [
      "Eq(hp + z1 + p1/gamma + v1**2/(2*g), hl + z2 + p2/gamma + v2**2/(2*g))\n",
      "Eq(hp + 100, hl + 180)\n",
      "loss=[(v1, 0.3), (v2, 0.9)]\n",
      "hl=0.15*v1**2/g + 0.45*v2**2/g\n",
      "Eq(hp + 100, 180 + 0.15*v1**2/g + 0.45*v2**2/g)\n",
      "[0.000125*(640000.0*g + 1200.0*v1**2 + 45369.0)/g]\n",
      "Eq(0.0176625*v1, 0.00785*v2)\n",
      "v1 = 1.57777777777778\n",
      "Q = 0.0278675000000000\n",
      "Eq(hp + 100, 180.616160286178)\n",
      "hp=80.6161602861780\n",
      "p=31.4840857240906 kW\n"
     ]
    }
   ],
   "source": [
    "from sympy import symbols, Eq, Add, solve\n",
    "from matplotlib.ticker import EngFormatter\n",
    "eng = lambda n: EngFormatter()(n)\n",
    "\n",
    "v1, p1, z1, hp = symbols(\"v1, p1, z1, hp\")\n",
    "v2, p2, z2, hl = symbols(\"v2, p2, z2, hl\")\n",
    "gamma,g = symbols(\"gamma,g\")\n",
    "\n",
    "# Bernoulli's quation\n",
    "lhs = (v1**2)/(2*g) + p1/gamma + z1 + hp\n",
    "rhs = (v2**2)/(2*g) + p2/gamma + z2 + hl\n",
    "eq_bern = Eq(lhs,rhs)\n",
    "print(eq_bern)\n",
    "\n",
    "#subs with #1 -> #4\n",
    "subs = { g:9.81 , gamma: 9810,\n",
    "\t   v1:0, p1:0,v2:0,p2:0,\n",
    "\t   z1:100 , z2:180}\n",
    "step1 = eq_bern.subs(subs)\n",
    "print(step1)\n",
    "\n",
    "#head loss\n",
    "loss = [ (v1,0.3), (v2,0.9) ]\n",
    "k, v = symbols(\"k, v\")\n",
    "hf = (k*v**2)/(2*g)\n",
    "eq_hl = 0\n",
    "for a,b in loss:\n",
    "\teq_hl = Add(eq_hl,hf.subs(v,a).subs(k,b))\n",
    "print(f\"loss={loss}\")\n",
    "print(f\"hl={eq_hl}\")\n",
    "step2 = step1.subs(hl, eq_hl)\n",
    "print(step2)\n",
    "print(solve(step2.subs(v2,3.55),hp))\n",
    "\n",
    "# v1, v2 -> q=va\n",
    "d1 = 0.15\n",
    "d2 = 0.10\n",
    "a1 = 3.14*0.25*d1**2\n",
    "a2 = 3.14*0.25*d2**2\n",
    "eq = Eq(v1*a1, v2*a2) # Q1=Q2 =v1a1=v2a2\n",
    "print(eq)\n",
    "vv1,*_ = solve(eq.subs(v2,3.55))\n",
    "q = vv1*a1\n",
    "print(f\"v1 = {vv1}\")\n",
    "print(f\"Q = {q}\")\n",
    "subs = { v1:vv1, v2:3.55}\n",
    "step3 = step2.subs(subs).subs(g, 9.81)\n",
    "print(step3)\n",
    "hp,*_ = solve(step3)\n",
    "print(f\"hp={hp}\")\n",
    "\n",
    "# Power = gamma*q*hp/eta\n",
    "eta = 0.70\n",
    "p = 9810*q*hp/eta\n",
    "print(f\"p={eng(p)}W\")"
   ]
  }
 ],
 "metadata": {
  "kernelspec": {
   "display_name": "Python 3.10.6 64-bit",
   "language": "python",
   "name": "python3"
  },
  "language_info": {
   "codemirror_mode": {
    "name": "ipython",
    "version": 3
   },
   "file_extension": ".py",
   "mimetype": "text/x-python",
   "name": "python",
   "nbconvert_exporter": "python",
   "pygments_lexer": "ipython3",
   "version": "3.10.6"
  },
  "orig_nbformat": 4,
  "vscode": {
   "interpreter": {
    "hash": "65804c87e60a5b78920b1b9a0b766019d5bfb4aea38a40ed60e26ac3af3a5059"
   }
  }
 },
 "nbformat": 4,
 "nbformat_minor": 2
}
