{
 "cells": [
  {
   "cell_type": "markdown",
   "metadata": {},
   "source": [
    "![](img/2022-11-11-13-53-23.png) <br>\n",
    "![](img/2022-11-11-13-55-36.png)"
   ]
  },
  {
   "cell_type": "code",
   "execution_count": 2,
   "metadata": {},
   "outputs": [],
   "source": [
    "from sympy import symbols, Eq, Add, Float, solve\n",
    "from matplotlib.ticker import EngFormatter\n",
    "\n",
    "v1, p1, z1, hp = symbols(\"v1, p1, z1, hp\")\n",
    "v2, p2, z2, hl = symbols(\"v2, p2, z2, hl\")\n",
    "gamma,eta,g, k, v = symbols(\"γ,η, g, k, v\")\n",
    "Q, d1, d2 = symbols(\"Q, d1, d2\")\n",
    "\n",
    "known_values = { \n",
    "    Q:0.594, d1:0.71, d2:0.55,\n",
    "    eta:0.60, gamma:9810,\n",
    "\tp1:0,p2:0,\n",
    "\tz1:5 , z2:25,\n",
    " }"
   ]
  },
  {
   "cell_type": "code",
   "execution_count": 3,
   "metadata": {},
   "outputs": [
    {
     "name": "stdout",
     "output_type": "stream",
     "text": [
      "Banully equation (+Pump)\n"
     ]
    },
    {
     "data": {
      "text/latex": [
       "$\\displaystyle hp + \\frac{p_{1}}{γ} + z_{1} + \\frac{v_{1}^{2}}{2 g} = hl + \\frac{p_{2}}{γ} + z_{2} + \\frac{v_{2}^{2}}{2 g}$"
      ],
      "text/plain": [
       "Eq(hp + p1/γ + z1 + v1**2/(2*g), hl + p2/γ + z2 + v2**2/(2*g))"
      ]
     },
     "execution_count": 3,
     "metadata": {},
     "output_type": "execute_result"
    }
   ],
   "source": [
    "# Banully equation\n",
    "lhs = (v1**2)/(2*g) + p1/gamma + z1 + hp\n",
    "rhs = (v2**2)/(2*g) + p2/gamma + z2 + hl\n",
    "eq_banully = Eq(lhs,rhs)\n",
    "print(\"Banully equation (+Pump)\")\n",
    "eq_banully"
   ]
  },
  {
   "cell_type": "code",
   "execution_count": 4,
   "metadata": {},
   "outputs": [
    {
     "name": "stdout",
     "output_type": "stream",
     "text": [
      "sum of head loss\n"
     ]
    },
    {
     "data": {
      "text/latex": [
       "$\\displaystyle \\frac{7 v_{1}^{2}}{2 g} + \\frac{6.75 v_{2}^{2}}{g}$"
      ],
      "text/plain": [
       "7*v1**2/(2*g) + 6.75*v2**2/g"
      ]
     },
     "execution_count": 4,
     "metadata": {},
     "output_type": "execute_result"
    }
   ],
   "source": [
    "#head loss\n",
    "loss_list = [ (v1,6), (v2,9.5), (v1,1), (v2,4) ]\n",
    "eq_loss = k *((v**2)/(2*g))\n",
    "sum_hl = 0\n",
    "for vi,ki in loss_list:\n",
    "    expr = eq_loss.subs(v,vi).subs(k,ki)\n",
    "    sum_hl = Add(sum_hl, expr)\n",
    "print(\"sum of head loss\")\n",
    "sum_hl"
   ]
  },
  {
   "cell_type": "code",
   "execution_count": 5,
   "metadata": {},
   "outputs": [
    {
     "data": {
      "text/latex": [
       "$\\displaystyle hp + 5 + \\frac{v_{1}^{2}}{2 g} = 25 + \\frac{7 v_{1}^{2}}{2 g} + \\frac{7.25 v_{2}^{2}}{g}$"
      ],
      "text/plain": [
       "Eq(hp + 5 + v1**2/(2*g), 25 + 7*v1**2/(2*g) + 7.25*v2**2/g)"
      ]
     },
     "execution_count": 5,
     "metadata": {},
     "output_type": "execute_result"
    }
   ],
   "source": [
    "known_values[hl] = sum_hl\n",
    "eq = eq_banully.subs(known_values)\n",
    "eq"
   ]
  },
  {
   "cell_type": "code",
   "execution_count": 6,
   "metadata": {},
   "outputs": [
    {
     "data": {
      "text/latex": [
       "$\\displaystyle hp + 5.11472570345606 = 30.4227543389485$"
      ],
      "text/plain": [
       "Eq(hp + 5.11472570345606, 30.4227543389485)"
      ]
     },
     "execution_count": 6,
     "metadata": {},
     "output_type": "execute_result"
    }
   ],
   "source": [
    "#v1, v2 \n",
    "import math\n",
    "a1 = math.pi*0.25*d1**2\n",
    "a2 = math.pi*0.25*d2**2\n",
    "eq = eq.subs({ v1:Q/a1 , v2:Q/a2, g:9.81}).subs(known_values)\n",
    "eq"
   ]
  },
  {
   "cell_type": "code",
   "execution_count": 7,
   "metadata": {},
   "outputs": [
    {
     "name": "stdout",
     "output_type": "stream",
     "text": [
      "hp_value=25.3080286354924\n"
     ]
    }
   ],
   "source": [
    "hp_value, = solve(eq)\n",
    "print(f\"{hp_value=}\")"
   ]
  },
  {
   "cell_type": "code",
   "execution_count": 8,
   "metadata": {},
   "outputs": [
    {
     "data": {
      "text/latex": [
       "$\\displaystyle \\frac{Q hp γ}{η}$"
      ],
      "text/plain": [
       "Q*hp*γ/η"
      ]
     },
     "execution_count": 8,
     "metadata": {},
     "output_type": "execute_result"
    }
   ],
   "source": [
    "# Power = gamma*q*hp/eta\n",
    "p = gamma*Q*hp/eta\n",
    "p"
   ]
  },
  {
   "cell_type": "code",
   "execution_count": 9,
   "metadata": {},
   "outputs": [
    {
     "name": "stdout",
     "output_type": "stream",
     "text": [
      "245789.04 W\n",
      "245.79 kW\n"
     ]
    }
   ],
   "source": [
    "p = p.subs(known_values).subs(hp,hp_value)\n",
    "p = Float(p)\n",
    "print(f\"{p:.2f} W\")\n",
    "print(f\"{EngFormatter(unit='W',places=2)(p)}\")"
   ]
  }
 ],
 "metadata": {
  "kernelspec": {
   "display_name": "Python 3.10.6 64-bit",
   "language": "python",
   "name": "python3"
  },
  "language_info": {
   "codemirror_mode": {
    "name": "ipython",
    "version": 3
   },
   "file_extension": ".py",
   "mimetype": "text/x-python",
   "name": "python",
   "nbconvert_exporter": "python",
   "pygments_lexer": "ipython3",
   "version": "3.10.6"
  },
  "orig_nbformat": 4,
  "vscode": {
   "interpreter": {
    "hash": "65804c87e60a5b78920b1b9a0b766019d5bfb4aea38a40ed60e26ac3af3a5059"
   }
  }
 },
 "nbformat": 4,
 "nbformat_minor": 2
}
