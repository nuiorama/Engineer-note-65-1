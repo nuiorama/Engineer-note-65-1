{
 "cells": [
  {
   "cell_type": "markdown",
   "metadata": {},
   "source": [
    "![](img/2022-11-11-13-58-27.png)"
   ]
  },
  {
   "cell_type": "code",
   "execution_count": 14,
   "metadata": {},
   "outputs": [
    {
     "name": "stdout",
     "output_type": "stream",
     "text": [
      "Eq(z1 + p1/gamma + v1**2/(2*g), hl + ht + z2 + p2/gamma + v2**2/(2*g))\n",
      "Eq(60, hl + ht)\n",
      "loss=[(v1, 0.9), (v2, 0.3)]\n",
      "hl=0.45*v1**2/g + 0.15*v2**2/g\n",
      "Eq(60, ht + 0.45*v1**2/g + 0.15*v2**2/g)\n",
      "[0.15*(400.0*g - 3.0*v1**2 - v2**2)/g]\n",
      "Q = 0.9\n",
      "v1 = 27.75269870704667\n",
      "v2 = 12.334532758687407\n",
      "Eq(60, ht + 37.6571491582181)\n",
      "ht=22.3428508417819\n",
      "p=147.948772561569 kW\n"
     ]
    }
   ],
   "source": [
    "from sympy import symbols, Eq, Add, solve\n",
    "from sympy.parsing.sympy_parser import parse_expr\n",
    "from math import pi\n",
    "from matplotlib.ticker import EngFormatter\n",
    "eng = lambda n: EngFormatter()(n)\n",
    "\n",
    "v1, p1, z1 = symbols(\"v1, p1, z1\")\n",
    "v2, p2, z2, ht, hl = symbols(\"v2, p2, z2,ht, hl\")\n",
    "gamma,g = symbols(\"gamma,g\")\n",
    "\n",
    "# Bernoulli's quation\n",
    "lhs = Add(v1**2/(2*g) ,p1/gamma ,z1, evaluate=False)\n",
    "rhs = Add(v2**2/(2*g) ,p2/gamma ,z2 ,ht ,hl, evaluate=False)\n",
    "eq_bern = Eq(lhs, rhs, evaluate=False)\n",
    "print(eq_bern)\n",
    "from sympy.printing.latex import LatexPrinter # or LatexPrinter from .latex)\n",
    "LatexPrinter(dict(order='none'))._print_Add(eq_bern)\n",
    "\n",
    "#subs with #1 -> #4\n",
    "subs = { g:9.81 , gamma: 9810,\n",
    "\t   v1:0, p1:0,v2:0,p2:0,\n",
    "\t   z1:60 , z2:0}\n",
    "step1 = eq_bern.subs(subs)\n",
    "print(step1)\n",
    "\n",
    "#head loss\n",
    "loss = [ (v1,0.9), (v2,0.3) ]\n",
    "k, v = symbols(\"k, v\")\n",
    "hf = (k*v**2)/(2*g)\n",
    "eq_hl = 0\n",
    "for a,b in loss:\n",
    "\teq_hl = Add(eq_hl,hf.subs(v,a).subs(k,b))\n",
    "print(f\"loss={loss}\")\n",
    "print(f\"hl={eq_hl}\")\n",
    "step2 = step1.subs(hl, eq_hl)\n",
    "print(step2)\n",
    "print(solve(step2,ht))\n",
    "\n",
    "# v1, v2 -> q=va\n",
    "q=0.9\n",
    "d1 = 8*2.54/100\n",
    "d2 = 12*2.54/100\n",
    "a1 = 0.25*pi*d1**2\n",
    "a2 = 0.25*pi*d2**2\n",
    "vv1 = q/a1\n",
    "vv2 = q/a2\n",
    "print(f\"Q = {q}\")\n",
    "print(f\"v1 = {vv1}\")\n",
    "print(f\"v2 = {vv2}\")\n",
    "subs = { v1:vv1, v2:vv2}\n",
    "step3 = step2.subs(subs).subs(g, 9.81)\n",
    "print(step3)\n",
    "ht,*_ = solve(step3)\n",
    "print(f\"ht={ht}\")\n",
    "\n",
    "# Power = gamma*q*hp/eta\n",
    "eta = 0.75\n",
    "p = 9810*q*ht*eta\n",
    "print(f\"p={eng(p)}W\")"
   ]
  }
 ],
 "metadata": {
  "kernelspec": {
   "display_name": "Python 3.10.6 64-bit",
   "language": "python",
   "name": "python3"
  },
  "language_info": {
   "codemirror_mode": {
    "name": "ipython",
    "version": 3
   },
   "file_extension": ".py",
   "mimetype": "text/x-python",
   "name": "python",
   "nbconvert_exporter": "python",
   "pygments_lexer": "ipython3",
   "version": "3.10.6"
  },
  "orig_nbformat": 4,
  "vscode": {
   "interpreter": {
    "hash": "65804c87e60a5b78920b1b9a0b766019d5bfb4aea38a40ed60e26ac3af3a5059"
   }
  }
 },
 "nbformat": 4,
 "nbformat_minor": 2
}
