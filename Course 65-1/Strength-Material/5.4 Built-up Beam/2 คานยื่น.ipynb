{
 "cells": [
  {
   "cell_type": "markdown",
   "metadata": {},
   "source": [
    "![](img/2022-11-11-09-34-53.png)"
   ]
  },
  {
   "cell_type": "code",
   "execution_count": 2,
   "metadata": {},
   "outputs": [
    {
     "name": "stdout",
     "output_type": "stream",
     "text": [
      "e=9.60\n"
     ]
    }
   ],
   "source": [
    "b = 6\n",
    "h = 6\n",
    "H = 2*h\n",
    "c = h\n",
    "v = 5000\n",
    "F = 6000\n",
    "\n",
    "Q = b*h*h/2\n",
    "I = b*H**3/12\n",
    "from sympy import symbols, Eq, solve\n",
    "e = symbols(\"e\")\n",
    "#F = V*e/I*Q\n",
    "e, = solve(Eq(F,v*e/I*Q), e)\n",
    "print(f\"e={e:.2f}\")"
   ]
  }
 ],
 "metadata": {
  "kernelspec": {
   "display_name": "Python 3.10.6 64-bit",
   "language": "python",
   "name": "python3"
  },
  "language_info": {
   "codemirror_mode": {
    "name": "ipython",
    "version": 3
   },
   "file_extension": ".py",
   "mimetype": "text/x-python",
   "name": "python",
   "nbconvert_exporter": "python",
   "pygments_lexer": "ipython3",
   "version": "3.10.6"
  },
  "orig_nbformat": 4,
  "vscode": {
   "interpreter": {
    "hash": "65804c87e60a5b78920b1b9a0b766019d5bfb4aea38a40ed60e26ac3af3a5059"
   }
  }
 },
 "nbformat": 4,
 "nbformat_minor": 2
}
