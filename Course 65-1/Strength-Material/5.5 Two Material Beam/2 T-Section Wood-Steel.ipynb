{
 "cells": [
  {
   "cell_type": "markdown",
   "metadata": {},
   "source": [
    "![](img/2022-11-11-09-41-01.png)"
   ]
  },
  {
   "cell_type": "code",
   "execution_count": 1,
   "metadata": {},
   "outputs": [
    {
     "name": "stdout",
     "output_type": "stream",
     "text": [
      "Bw=0.2\n",
      "centroid=[4.685483870967742, 1.314516129032258]\n",
      "I=9.201680107526881\n",
      "m=60000.0\n",
      "sigma_s(T)=30551.92410221953\n",
      "sigma_w(T)=1527.5962051109766\n",
      "sigma_s(C)=8571.365970157975\n"
     ]
    }
   ],
   "source": [
    "l = 10 *12\n",
    "p = 2000\n",
    "Ews = 1/20\n",
    "B = 4\n",
    "HH = 6\n",
    "h = 1/2\n",
    "H = HH-h\n",
    "sigma_s = 8580\n",
    "v = p/2\n",
    "\n",
    "# Ew/Es = 1/20 = Bw/Bs\n",
    "# Bw = Bs*Ews\n",
    "b = B*Ews\n",
    "print(f\"Bw={b}\")\n",
    "\n",
    "c1 = ( b*H*(H/2) + B*h*(H+h/2))/(B*h+b*H)\n",
    "c2 = HH-c1\n",
    "print(f\"centroid=[{c1}, {c2}]\")\n",
    "# I = sum( b/3*(yt**3+yb**3) )\n",
    "I = b/3*(c1**3+(c2-h)**3) +B/3*(c2**3-(c2-h)**3)\n",
    "print(f\"I={I}\")\n",
    "\n",
    "# m = R1*x = p/2*l/2 = pl/4\n",
    "m = v*l/2\n",
    "print(f\"m={m}\")\n",
    "# sigma = Mc/I\n",
    "sigma_s = m*c1/I\n",
    "sigma_w = Ews*sigma_s\n",
    "print(f\"sigma_s(T)={sigma_s}\")\n",
    "print(f\"sigma_w(T)={sigma_w}\")\n",
    "sigma_s = m*c2/I\n",
    "print(f\"sigma_s(C)={sigma_s}\")"
   ]
  }
 ],
 "metadata": {
  "kernelspec": {
   "display_name": "Python 3.10.6 64-bit",
   "language": "python",
   "name": "python3"
  },
  "language_info": {
   "codemirror_mode": {
    "name": "ipython",
    "version": 3
   },
   "file_extension": ".py",
   "mimetype": "text/x-python",
   "name": "python",
   "nbconvert_exporter": "python",
   "pygments_lexer": "ipython3",
   "version": "3.10.6"
  },
  "orig_nbformat": 4,
  "vscode": {
   "interpreter": {
    "hash": "65804c87e60a5b78920b1b9a0b766019d5bfb4aea38a40ed60e26ac3af3a5059"
   }
  }
 },
 "nbformat": 4,
 "nbformat_minor": 2
}
