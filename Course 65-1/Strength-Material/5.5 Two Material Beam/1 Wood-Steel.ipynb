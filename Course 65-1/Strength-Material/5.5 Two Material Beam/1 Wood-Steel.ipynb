{
 "cells": [
  {
   "cell_type": "markdown",
   "metadata": {},
   "source": [
    "![](img/2022-11-11-09-38-03.png)"
   ]
  },
  {
   "cell_type": "code",
   "execution_count": 1,
   "metadata": {},
   "outputs": [
    {
     "name": "stdout",
     "output_type": "stream",
     "text": [
      "0.4\n",
      "I=370.2666666666669\n",
      "m=911.426 k inch-pounds\n"
     ]
    }
   ],
   "source": [
    "B = 8\n",
    "H = 12\n",
    "h = 0.5\n",
    "Es = 30e6\n",
    "Ew = 1.5e6\n",
    "sigma_s = 16_000\n",
    "\n",
    "c = (H+2*h)/2\n",
    "# Es/Ew = Bs/Bw\n",
    "# Bw = Bs/Es*Ew\n",
    "b = B/Es*Ew\n",
    "print(b)\n",
    "\n",
    "I = B*(H+2*h)**3/12 - 2*(B/2-b/2)*H**3/12\n",
    "print(f\"I={I}\")\n",
    "\n",
    "# sigma = mc/I\n",
    "# m = sigma*I/c\n",
    "m = sigma_s*I/c\n",
    "from matplotlib.ticker import EngFormatter\n",
    "eng = lambda n: EngFormatter()(n)\n",
    "print(f\"m={eng(m)} inch-pounds\")"
   ]
  }
 ],
 "metadata": {
  "kernelspec": {
   "display_name": "Python 3.10.6 64-bit",
   "language": "python",
   "name": "python3"
  },
  "language_info": {
   "codemirror_mode": {
    "name": "ipython",
    "version": 3
   },
   "file_extension": ".py",
   "mimetype": "text/x-python",
   "name": "python",
   "nbconvert_exporter": "python",
   "pygments_lexer": "ipython3",
   "version": "3.10.6"
  },
  "orig_nbformat": 4,
  "vscode": {
   "interpreter": {
    "hash": "65804c87e60a5b78920b1b9a0b766019d5bfb4aea38a40ed60e26ac3af3a5059"
   }
  }
 },
 "nbformat": 4,
 "nbformat_minor": 2
}
