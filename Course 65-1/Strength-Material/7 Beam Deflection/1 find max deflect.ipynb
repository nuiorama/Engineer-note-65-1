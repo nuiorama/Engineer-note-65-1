{
 "cells": [
  {
   "cell_type": "markdown",
   "metadata": {},
   "source": [
    "![](img/2022-11-22-14-08-30.png)<br>\n",
    "![](img/2022-11-22-22-34-41.png)"
   ]
  },
  {
   "cell_type": "markdown",
   "metadata": {},
   "source": [
    "$$\n",
    "\\begin{align}\n",
    "M_{BC} = EI \\frac{d^2y}{dx^2} &= 100x-300\\langle x-2 \\rangle \\tag{1 Moment}\\\\\n",
    "EI \\frac{dy}{dx} &= 50x^2 - 150\\langle x-2 \\rangle^2 + C_1 \\tag{2 Slope}\\\\\n",
    "EIy &= \\frac{50x^3}{3} - 50\\langle x-2\\rangle^3 + C_1x + C_2 \\tag{3 Deflection}\\\\\n",
    "\\end{align}\n",
    "$$"
   ]
  },
  {
   "cell_type": "markdown",
   "metadata": {},
   "source": [
    "[สมการโก่งตัว(3)] ที่จุด A ค่าระยะ x=0, การโก่ง y=0, แทน $\\langle x-2\\rangle^3$ เป็น 0\n",
    "$$\n",
    "\\begin{align}\n",
    "  EIy = 0 &= \\frac{50(0)^3}{3} - 0 + C_1(0) + C_2 \\tag{ref 3} \\\\\n",
    "  C_2 &= 0 \\notag\\\\\n",
    "\\end{align}\n",
    "$$\n",
    "[สมการโก่งตัว(3)] ที่จุด C ค่าระยะ x=3, การโก่ง y=0\n",
    "$$\n",
    "\\begin{align}\n",
    "  EIy = 0 &= \\frac{50(3)^3}{3} - 50\\langle (3)-2\\rangle^3 + C_1(3) \\tag{ref 3} \\\\\n",
    "  C_1 &= -133 \\notag \\\\\n",
    "\\end{align}\n",
    "$$"
   ]
  },
  {
   "cell_type": "markdown",
   "metadata": {},
   "source": [
    "[สมการความชัน(2)] ช่วง AB (0<=x<=2m) , ตัด $-150\\langle x-2 \\rangle^2$ ออกไป\n",
    "$$\n",
    "\\begin{align}\n",
    "EI \\frac{dy}{dx} &= 50x^2 - 150\\langle x-2 \\rangle^2 + C_1 \\small \\tag{ref 2}\\\\\n",
    "EI \\frac{dy}{dx} &= 50x^2 -133 \\tag{4 Slope}\\\\\n",
    "\\therefore EIy &= {50x^3 \\over 3}  -133x \\tag{5}\n",
    "\\end{align}\n",
    "$$"
   ]
  },
  {
   "cell_type": "markdown",
   "metadata": {},
   "source": [
    "[สมการความชัน(2)] ช่วง BC (2<=x<=3m)\n",
    "$$\n",
    "\\begin{align}\n",
    "EI \\frac{dy}{dx} &= 50x^2 -150\\langle x-2 \\rangle^2 -133 \\tag{ref 2}\\\\\n",
    "\\therefore EIy &= {50x^3 \\over 3} -50\\langle x-2 \\rangle^3 -133x \\tag{6}\n",
    "\\end{align}\n",
    "$$"
   ]
  },
  {
   "cell_type": "markdown",
   "metadata": {},
   "source": [
    "หาตำแหน่งระยะโก่งตัวสูงสุด $ {dy \\over dx} = 0 $\n",
    "$$\n",
    "\\begin{align}\n",
    "EI \\frac{dy}{dx} &= 50x^2 -133 \\tag{ref 4}\\\\\n",
    "0 &= 50x^2 -133 \\notag\\\\\n",
    "\\therefore x &= 1.63 \\,\\mathrm m \\notag\n",
    "\\end{align}\n",
    "$$"
   ]
  },
  {
   "cell_type": "markdown",
   "metadata": {},
   "source": [
    "เนื่องจาก $x = 1.63$ อยู่ในช่วง AB $(0<=x<=2)$\n",
    "$$\n",
    "\\begin{align}\n",
    "EIy &= {50x^3 \\over 3}  -133x \\tag{ref 5} \\\\\n",
    "EIy &= {50(1.63)^3 \\over 3}  -133(1.63) = -145 \\,\\mathrm{N \\cdot m^3} \\notag \\\\\n",
    "\\end{align}\n",
    "$$\n",
    "ระยะโก่งตัวติดลบ แสดงว่า ระยะโก่งตัว y วัดลงใต้แนวแกน x <br>\n",
    "ในที่นี้ถ้ากำหนดให้ $E = 10 \\times 10^9 \\,\\mathrm{N \\cdot m^2}$ และ $I = 1.5 \\times 10^6 \\mathrm {mm^4} = 1.5 \\times 10^{-6} \\mathrm {m^4}$\n",
    "$$\n",
    "\\begin{align}\n",
    "(10 \\times 10^9)(1.5 \\times 10^{-6}) y &= -145 \\notag\\\\\n",
    "y &= -9.67 \\times 10^{-3} \\,\\mathrm m = -9.67 \\,\\mathrm {mm} \\notag\n",
    "\\end{align}\n",
    "$$"
   ]
  },
  {
   "cell_type": "code",
   "execution_count": 2,
   "metadata": {},
   "outputs": [
    {
     "data": {
      "text/plain": [
       "{R1: -100, R2: -200}"
      ]
     },
     "execution_count": 2,
     "metadata": {},
     "output_type": "execute_result"
    }
   ],
   "source": [
    "from sympy import *\n",
    "from sympy.physics.continuum_mechanics.beam import Beam\n",
    "\n",
    "L=3\n",
    "E, I = symbols('E, I')\n",
    "R1, R2 = symbols('R1, R2')\n",
    "bm = Beam(L, E, I)\n",
    "bm.apply_load(R1, 0, -1)\n",
    "bm.apply_load(R2, L, -1)\n",
    "bm.apply_load(300, 2, -1)  # P\n",
    "\n",
    "# find reaction load at A, B\n",
    "bm.bc_deflection = [(0, 0), (L, 0)]\n",
    "bm.solve_for_reaction_loads(R1, R2)\n",
    "bm.reaction_loads"
   ]
  },
  {
   "cell_type": "code",
   "execution_count": 3,
   "metadata": {},
   "outputs": [
    {
     "data": {
      "text/latex": [
       "$\\displaystyle \\frac{\\frac{400 x}{3} - \\frac{50 {\\left\\langle x \\right\\rangle}^{3}}{3} + 50 {\\left\\langle x - 2 \\right\\rangle}^{3} - \\frac{100 {\\left\\langle x - 3 \\right\\rangle}^{3}}{3}}{E I}$"
      ],
      "text/plain": [
       "(400*x/3 - 50*SingularityFunction(x, 0, 3)/3 + 50*SingularityFunction(x, 2, 3) - 100*SingularityFunction(x, 3, 3)/3)/(E*I)"
      ]
     },
     "execution_count": 3,
     "metadata": {},
     "output_type": "execute_result"
    }
   ],
   "source": [
    "bm.deflection()"
   ]
  },
  {
   "cell_type": "code",
   "execution_count": 4,
   "metadata": {},
   "outputs": [
    {
     "data": {
      "text/latex": [
       "$\\displaystyle 1.63299316185545$"
      ],
      "text/plain": [
       "1.63299316185545"
      ]
     },
     "execution_count": 4,
     "metadata": {},
     "output_type": "execute_result"
    }
   ],
   "source": [
    "x,y = bm.max_deflection()\n",
    "x.evalf()"
   ]
  },
  {
   "cell_type": "code",
   "execution_count": 5,
   "metadata": {},
   "outputs": [
    {
     "data": {
      "text/latex": [
       "$\\displaystyle 0.00967699651469897$"
      ],
      "text/plain": [
       "0.00967699651469897"
      ]
     },
     "execution_count": 5,
     "metadata": {},
     "output_type": "execute_result"
    }
   ],
   "source": [
    "y.subs({E:10e9, I:1.5e-6}).evalf()"
   ]
  },
  {
   "cell_type": "code",
   "execution_count": 11,
   "metadata": {},
   "outputs": [
    {
     "data": {
      "image/png": "[encoded data removed]",
      "text/plain": [
       "<Figure size 640x480 with 4 Axes>"
      ]
     },
     "metadata": {},
     "output_type": "display_data"
    },
    {
     "data": {
      "text/plain": [
       "<sympy.plotting.plot.PlotGrid at 0x18062ce71f0>"
      ]
     },
     "execution_count": 11,
     "metadata": {},
     "output_type": "execute_result"
    }
   ],
   "source": [
    "bm.plot_loading_results(subs={E:10e9, I:1.5e-6})"
   ]
  }
 ],
 "metadata": {
  "kernelspec": {
   "display_name": "Python 3.10.6 ('py10')",
   "language": "python",
   "name": "python3"
  },
  "language_info": {
   "codemirror_mode": {
    "name": "ipython",
    "version": 3
   },
   "file_extension": ".py",
   "mimetype": "text/x-python",
   "name": "python",
   "nbconvert_exporter": "python",
   "pygments_lexer": "ipython3",
   "version": "3.10.6"
  },
  "orig_nbformat": 4,
  "vscode": {
   "interpreter": {
    "hash": "65804c87e60a5b78920b1b9a0b766019d5bfb4aea38a40ed60e26ac3af3a5059"
   }
  }
 },
 "nbformat": 4,
 "nbformat_minor": 2
}
