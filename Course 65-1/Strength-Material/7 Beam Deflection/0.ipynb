{
 "cells": [
  {
   "cell_type": "markdown",
   "metadata": {},
   "source": [
    "![](img/2022-11-22-13-55-54.png)<br>\n",
    "![](img/2022-11-22-13-56-45.png)<br>\n",
    "![](img/2022-11-22-13-57-27.png)<br>\n",
    "![](img/2022-11-22-13-57-46.png)<br>\n",
    "![](img/2022-11-22-13-59-36.png)<br>\n",
    "![](img/2022-11-22-14-00-23.png)<br>\n",
    "![](img/2022-11-22-14-05-09.png)<br>\n",
    "![](img/2022-11-22-14-06-22.png)"
   ]
  }
 ],
 "metadata": {
  "kernelspec": {
   "display_name": "Python 3.10.6 ('py10')",
   "language": "python",
   "name": "python3"
  },
  "language_info": {
   "name": "python",
   "version": "3.10.6"
  },
  "orig_nbformat": 4,
  "vscode": {
   "interpreter": {
    "hash": "65804c87e60a5b78920b1b9a0b766019d5bfb4aea38a40ed60e26ac3af3a5059"
   }
  }
 },
 "nbformat": 4,
 "nbformat_minor": 2
}
