{
 "cells": [
  {
   "cell_type": "markdown",
   "metadata": {},
   "source": [
    "![](img/2022-11-11-11-36-27.png)"
   ]
  },
  {
   "cell_type": "code",
   "execution_count": 1,
   "metadata": {},
   "outputs": [
    {
     "name": "stdout",
     "output_type": "stream",
     "text": [
      "use max KLr=114.49676063854953\n",
      "KLry\n",
      "sigma=150.572 M\n",
      "Buckling\n",
      "p=460.749 k\n"
     ]
    }
   ],
   "source": [
    "A = 3060e-6\n",
    "Ix = 13.4e-6\n",
    "Iy = 1.83e-6\n",
    "L = 8\n",
    "sigma_y = 250e6 \n",
    "E = 200e9 #STD\n",
    "\n",
    "#--------------\n",
    "from math import pi, sqrt\n",
    "from matplotlib.ticker import EngFormatter\n",
    "eng = lambda n: EngFormatter()(n)\n",
    "rx = sqrt(Ix/A)\n",
    "ry = sqrt(Iy/A)\n",
    "KLrx = 0.5*L/rx\n",
    "KLry = 0.7*(0.5*L)/ry\n",
    "KLr = max(KLrx, KLry)\n",
    "print(f\"use max KLr={KLr}\")\n",
    "print(\"KLrx\") if KLr==KLrx else print(\"KLry\")\n",
    "\n",
    "sigma = pi**2*E/KLr**2\n",
    "print(f\"sigma={eng(sigma)}\")\n",
    "if sigma<sigma_y:\n",
    "\tprint(\"Buckling\")\n",
    "else:\n",
    "\tprint(\"yield\")\n",
    "\tsigma = sigma_y\n",
    "p =sigma*A\n",
    "print(f\"p={eng(p)}\")"
   ]
  }
 ],
 "metadata": {
  "kernelspec": {
   "display_name": "Python 3.10.6 64-bit",
   "language": "python",
   "name": "python3"
  },
  "language_info": {
   "codemirror_mode": {
    "name": "ipython",
    "version": 3
   },
   "file_extension": ".py",
   "mimetype": "text/x-python",
   "name": "python",
   "nbconvert_exporter": "python",
   "pygments_lexer": "ipython3",
   "version": "3.10.6"
  },
  "orig_nbformat": 4,
  "vscode": {
   "interpreter": {
    "hash": "65804c87e60a5b78920b1b9a0b766019d5bfb4aea38a40ed60e26ac3af3a5059"
   }
  }
 },
 "nbformat": 4,
 "nbformat_minor": 2
}
