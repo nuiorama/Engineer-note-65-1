{
 "cells": [
  {
   "cell_type": "markdown",
   "metadata": {},
   "source": [
    "![](img/2022-11-11-11-34-06.png)"
   ]
  },
  {
   "cell_type": "code",
   "execution_count": 2,
   "metadata": {},
   "outputs": [
    {
     "name": "stdout",
     "output_type": "stream",
     "text": [
      "A=0.0006\n",
      "Ix=8.000000000000001e-08\n",
      "Iy=1.1249999999999998e-08\n",
      "KLr_x=51.96152422706631\n",
      "KLr_y=69.28203230275508\n",
      "Use max(KLr)\n",
      "sigma=431.795 M\n",
      "sigma<sigma_y OK!\n",
      "P_cr=259.077 k\n"
     ]
    }
   ],
   "source": [
    "\n",
    "E = 210e9\n",
    "sigma_y = 700e6\n",
    "FS = 1.75\n",
    "b = 0.015\n",
    "h = 0.040\n",
    "L = 0.6\n",
    "\n",
    "A = b*h\n",
    "Ix = b*h**3/12\n",
    "Iy = h*b**3/12\n",
    "print(f\"A={A}\")\n",
    "print(f\"Ix={Ix}\")\n",
    "print(f\"Iy={Iy}\")\n",
    "\n",
    "#----------------\n",
    "from math import pi, sqrt\n",
    "from matplotlib.ticker import EngFormatter\n",
    "eng = lambda n: EngFormatter()(n)\n",
    "rx = sqrt(Ix/A)\n",
    "ry = sqrt(Iy/A)\n",
    "kx = 1\n",
    "ky = 0.5\n",
    "KLr_x = kx*L/rx\n",
    "KLr_y = ky*L/ry\n",
    "print(f\"KLr_x={KLr_x}\")\n",
    "print(f\"KLr_y={KLr_y}\")\n",
    "print(f\"Use max(KLr)\")\n",
    "KLr = max(KLr_x, KLr_y)\n",
    "sigma = pi**2*E/(KLr**2)\n",
    "print(f\"sigma={eng(sigma)}\")\n",
    "if sigma<sigma_y:\n",
    "\tprint(\"sigma<sigma_y OK!\")\n",
    "else:\n",
    "\tprint(\"sigma>sigma_y USE sigma_y\")\n",
    "\tsigma = sigma_y\n",
    "P_cr = sigma*A\n",
    "print(f\"P_cr={eng(P_cr)}\")"
   ]
  }
 ],
 "metadata": {
  "kernelspec": {
   "display_name": "Python 3.10.6 64-bit",
   "language": "python",
   "name": "python3"
  },
  "language_info": {
   "codemirror_mode": {
    "name": "ipython",
    "version": 3
   },
   "file_extension": ".py",
   "mimetype": "text/x-python",
   "name": "python",
   "nbconvert_exporter": "python",
   "pygments_lexer": "ipython3",
   "version": "3.10.6"
  },
  "orig_nbformat": 4,
  "vscode": {
   "interpreter": {
    "hash": "65804c87e60a5b78920b1b9a0b766019d5bfb4aea38a40ed60e26ac3af3a5059"
   }
  }
 },
 "nbformat": 4,
 "nbformat_minor": 2
}
