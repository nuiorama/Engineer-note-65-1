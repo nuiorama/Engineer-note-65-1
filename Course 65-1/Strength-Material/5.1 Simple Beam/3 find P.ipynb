{
 "cells": [
  {
   "cell_type": "markdown",
   "metadata": {},
   "source": [
    "![image](img/5.1.3.png)"
   ]
  },
  {
   "cell_type": "code",
   "execution_count": 8,
   "metadata": {},
   "outputs": [
    {
     "data": {
      "text/plain": [
       "(p/4 + 4*w, 3*p/4 + 4*w)"
      ]
     },
     "execution_count": 8,
     "metadata": {},
     "output_type": "execute_result"
    }
   ],
   "source": [
    "from sympy import *\n",
    "l = 8\n",
    "ab = 6\n",
    "b=0.100\n",
    "h=0.300\n",
    "sigma = 9e6\n",
    "w, p = symbols(\"w, p\")\n",
    "\n",
    "from IPython.display import display, Math\n",
    "from sympy.physics.continuum_mechanics.beam import Beam\n",
    "E, I = symbols('E, I')\n",
    "R1, R2 = symbols('R1, R2')\n",
    "bm = Beam(l, E, I)\n",
    "bm.apply_load(R1, 0, -1)\n",
    "bm.apply_load(w, 0, 0, end=l)\n",
    "bm.apply_load(p, ab, -1)\n",
    "bm.apply_load(R2, l, -1)\n",
    "bm.bc_deflection = [(0, 0), (l, 0)]\n",
    "bm.solve_for_reaction_loads(R1, R2)\n",
    "bm.reaction_loads\n",
    "# reverse direction\n",
    "A, C = ( -x for x in bm.reaction_loads.values())\n",
    "A, C"
   ]
  },
  {
   "cell_type": "code",
   "execution_count": 19,
   "metadata": {},
   "outputs": [
    {
     "name": "stdout",
     "output_type": "stream",
     "text": [
      "p = 8*w\n"
     ]
    }
   ],
   "source": [
    "# find value of p\n",
    "# M_B = 0 = R1 - w*x\n",
    "vp, = solve(Eq(A,w*ab),p)\n",
    "print(f\"p = {vp}\")"
   ]
  },
  {
   "cell_type": "code",
   "execution_count": 20,
   "metadata": {},
   "outputs": [
    {
     "name": "stdout",
     "output_type": "stream",
     "text": [
      "max_moment=0.75*p + 12.0*w\n",
      "max_moment=18.0*w\n"
     ]
    }
   ],
   "source": [
    "# find max_bendingmoment\n",
    "max_moment = 0.5*A*ab\n",
    "print(f\"{max_moment=}\")\n",
    "max_moment = max_moment.subs(p,vp)\n",
    "print(f\"{max_moment=}\")"
   ]
  },
  {
   "cell_type": "code",
   "execution_count": 21,
   "metadata": {},
   "outputs": [
    {
     "name": "stdout",
     "output_type": "stream",
     "text": [
      "z=0.0015\n"
     ]
    }
   ],
   "source": [
    "# find secion modulus\n",
    "# sigma = M/z\n",
    "z = (1/6)*b*h**2\n",
    "print(f\"{z=}\")"
   ]
  },
  {
   "cell_type": "code",
   "execution_count": 23,
   "metadata": {},
   "outputs": [
    {
     "name": "stdout",
     "output_type": "stream",
     "text": [
      "w=750.000000000000N/m\n",
      "p=6000N\n"
     ]
    }
   ],
   "source": [
    "# solve with sigma = M/z\n",
    "vw, = solve(Eq(sigma,  max_moment/z), w)\n",
    "pprint(f\"w={vw}N/m\")\n",
    "vp = vp.subs(w,vw)\n",
    "pprint(f\"p={vp:.0f}N\")"
   ]
  }
 ],
 "metadata": {
  "kernelspec": {
   "display_name": "Python 3.10.6 64-bit",
   "language": "python",
   "name": "python3"
  },
  "language_info": {
   "codemirror_mode": {
    "name": "ipython",
    "version": 3
   },
   "file_extension": ".py",
   "mimetype": "text/x-python",
   "name": "python",
   "nbconvert_exporter": "python",
   "pygments_lexer": "ipython3",
   "version": "3.10.6"
  },
  "orig_nbformat": 4,
  "vscode": {
   "interpreter": {
    "hash": "65804c87e60a5b78920b1b9a0b766019d5bfb4aea38a40ed60e26ac3af3a5059"
   }
  }
 },
 "nbformat": 4,
 "nbformat_minor": 2
}
