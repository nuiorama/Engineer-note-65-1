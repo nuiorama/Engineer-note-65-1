{
 "cells": [
  {
   "cell_type": "markdown",
   "metadata": {},
   "source": [
    "![5.2.6](img/5.2.6.png)"
   ]
  },
  {
   "cell_type": "code",
   "execution_count": 1,
   "metadata": {},
   "outputs": [
    {
     "name": "stdout",
     "output_type": "stream",
     "text": [
      "{c1: 8, c2: 4}\n",
      "t=1.20\n"
     ]
    }
   ],
   "source": [
    "from sympy import *\n",
    "b = symbols(\"t\")\n",
    "B = 6\n",
    "h = 2\n",
    "H = 10\n",
    "\n",
    "#sigma = MC/I\n",
    "# sc = 8000 = MC1/I\n",
    "# st = 4000 = MC2/I\n",
    "# c1/c2 = 8000/4000 = 2\n",
    "# c1+c2 = 12\n",
    "c1, c2 = symbols(\"c1, c2\")\n",
    "r = solve([c1/c2-2, c1+c2-12], (c1,c2))\n",
    "c1, c2 = r.values();\n",
    "print(r)\n",
    "t, = solve( Eq(c1,( (0.5*H)*H*b + (H+0.5*h)*B*h )/(B*h + b*H)))\n",
    "print(f\"t={t:.2f}\")"
   ]
  }
 ],
 "metadata": {
  "kernelspec": {
   "display_name": "Python 3.10.6 64-bit",
   "language": "python",
   "name": "python3"
  },
  "language_info": {
   "codemirror_mode": {
    "name": "ipython",
    "version": 3
   },
   "file_extension": ".py",
   "mimetype": "text/x-python",
   "name": "python",
   "nbconvert_exporter": "python",
   "pygments_lexer": "ipython3",
   "version": "3.10.6"
  },
  "orig_nbformat": 4,
  "vscode": {
   "interpreter": {
    "hash": "65804c87e60a5b78920b1b9a0b766019d5bfb4aea38a40ed60e26ac3af3a5059"
   }
  }
 },
 "nbformat": 4,
 "nbformat_minor": 2
}
