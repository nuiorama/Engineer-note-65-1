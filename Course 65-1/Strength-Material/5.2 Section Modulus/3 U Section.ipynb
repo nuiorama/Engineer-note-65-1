{
 "cells": [
  {
   "cell_type": "markdown",
   "metadata": {},
   "source": [
    "![5.2.3](img/5.2.3.png)"
   ]
  },
  {
   "cell_type": "code",
   "execution_count": 1,
   "metadata": {},
   "outputs": [
    {
     "name": "stdout",
     "output_type": "stream",
     "text": [
      "c1 = 7.0\n",
      "c2 = 3.0\n",
      "i = 666.6666666666665\n",
      "z1 = 95.23809523809521\n",
      "z2 = 222.22222222222217\n"
     ]
    }
   ],
   "source": [
    "t = 2\n",
    "B = 24\n",
    "H = 10\n",
    "b = B-2*t\n",
    "h = H-t\n",
    "\n",
    "# y-centroid = sum(Ay)/sum(A)\n",
    "c1 = ( (B*H)*(H/2) -(b*h)*(h/2) )/(B*H -b*h) \n",
    "c2 = ( (B*H)*(H/2) -(b*h)*(t+h/2) )/(B*H -b*h) \n",
    "print(f\"c1 = {c1}\")\n",
    "print(f\"c2 = {c2}\")\n",
    "# inertia = sum((1/b)[yt^3+yb^3])\n",
    "i = (B/3)*(c1**3+c2**3) -(b/3)*(c1**3 +(c2-t)**3)\n",
    "print(f\"i = {i}\")\n",
    "# Z = I/C\n",
    "z1 = i/c1\n",
    "z2 = i/c2\n",
    "print(f\"z1 = {z1}\")\n",
    "print(f\"z2 = {z2}\")"
   ]
  }
 ],
 "metadata": {
  "kernelspec": {
   "display_name": "Python 3.10.6 64-bit",
   "language": "python",
   "name": "python3"
  },
  "language_info": {
   "codemirror_mode": {
    "name": "ipython",
    "version": 3
   },
   "file_extension": ".py",
   "mimetype": "text/x-python",
   "name": "python",
   "nbconvert_exporter": "python",
   "pygments_lexer": "ipython3",
   "version": "3.10.6"
  },
  "orig_nbformat": 4,
  "vscode": {
   "interpreter": {
    "hash": "65804c87e60a5b78920b1b9a0b766019d5bfb4aea38a40ed60e26ac3af3a5059"
   }
  }
 },
 "nbformat": 4,
 "nbformat_minor": 2
}
