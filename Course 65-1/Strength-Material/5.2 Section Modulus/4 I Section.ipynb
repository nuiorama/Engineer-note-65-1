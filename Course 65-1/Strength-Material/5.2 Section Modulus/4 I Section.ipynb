{
 "cells": [
  {
   "cell_type": "markdown",
   "metadata": {},
   "source": [
    "![5.2.4](img/5.2.4.png)"
   ]
  },
  {
   "cell_type": "code",
   "execution_count": 1,
   "metadata": {},
   "outputs": [
    {
     "name": "stdout",
     "output_type": "stream",
     "text": [
      "c1 = 3.4296875000000004\n",
      "c2 = 2.5703124999999996\n",
      "i = 42.96270833333334\n"
     ]
    }
   ],
   "source": [
    "t = 1\n",
    "B = 4\n",
    "H = 4\n",
    "b = 2.24\n",
    "h = t\n",
    "# y-centroid = sum(Ay)/sum(A)\n",
    "c1 = ( b*t*0.5*t +t*H*(t+0.5*H) +t*B*(t+H+0.5*t) \n",
    "\t )/(b*t+t*H+B*t)\n",
    "c2 = t+H+t -c1 \n",
    "print(f\"c1 = {c1}\")\n",
    "print(f\"c2 = {c2}\")\n",
    "# inertia = sum((1/b)[yt^3+yb^3])\n",
    "i = (b/3)*(c1**3-(c1-t)**3) + (t/3)*((c1-t)**3+(c2-t)**3\n",
    "\t)+(B/3)*(c2**3-(c2-t)**3)\n",
    "print(f\"i = {i}\")"
   ]
  }
 ],
 "metadata": {
  "kernelspec": {
   "display_name": "Python 3.10.6 64-bit",
   "language": "python",
   "name": "python3"
  },
  "language_info": {
   "codemirror_mode": {
    "name": "ipython",
    "version": 3
   },
   "file_extension": ".py",
   "mimetype": "text/x-python",
   "name": "python",
   "nbconvert_exporter": "python",
   "pygments_lexer": "ipython3",
   "version": "3.10.6"
  },
  "orig_nbformat": 4,
  "vscode": {
   "interpreter": {
    "hash": "65804c87e60a5b78920b1b9a0b766019d5bfb4aea38a40ed60e26ac3af3a5059"
   }
  }
 },
 "nbformat": 4,
 "nbformat_minor": 2
}
