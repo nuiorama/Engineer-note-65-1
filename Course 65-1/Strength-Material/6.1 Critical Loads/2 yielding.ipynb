{
 "cells": [
  {
   "cell_type": "markdown",
   "metadata": {},
   "source": [
    "![](img/2022-11-11-09-47-44.png)"
   ]
  },
  {
   "cell_type": "code",
   "execution_count": 2,
   "metadata": {},
   "outputs": [
    {
     "name": "stdout",
     "output_type": "stream",
     "text": [
      "p=3.50919 M\n",
      "sigma=552.368 M Pa\n",
      "yield!\n",
      "p_max=1.58825 MPa\n"
     ]
    }
   ],
   "source": [
    "# s-A36\n",
    "E = 200e9\n",
    "A = 6353e-6\n",
    "L = 3\n",
    "Iy = 16e-6\n",
    "sigma_y = 250e6\n",
    "\n",
    "from math import pi\n",
    "from matplotlib.ticker import EngFormatter\n",
    "eng = lambda n: EngFormatter()(n)\n",
    "p = pi**2*E*Iy/L**2\n",
    "print(f\"p={eng(p)}\")\n",
    "sigma = p/A\n",
    "print(f\"sigma={eng(sigma)} Pa\")\n",
    "if (sigma>sigma_y):\n",
    "\tprint(\"yield!\")\n",
    "else:\n",
    "\tprint(\"buckling!\")\n",
    "p_max = sigma_y*A\n",
    "print(f\"p_max={eng(p_max)}Pa\")"
   ]
  }
 ],
 "metadata": {
  "kernelspec": {
   "display_name": "Python 3.10.6 64-bit",
   "language": "python",
   "name": "python3"
  },
  "language_info": {
   "codemirror_mode": {
    "name": "ipython",
    "version": 3
   },
   "file_extension": ".py",
   "mimetype": "text/x-python",
   "name": "python",
   "nbconvert_exporter": "python",
   "pygments_lexer": "ipython3",
   "version": "3.10.6"
  },
  "orig_nbformat": 4,
  "vscode": {
   "interpreter": {
    "hash": "65804c87e60a5b78920b1b9a0b766019d5bfb4aea38a40ed60e26ac3af3a5059"
   }
  }
 },
 "nbformat": 4,
 "nbformat_minor": 2
}
