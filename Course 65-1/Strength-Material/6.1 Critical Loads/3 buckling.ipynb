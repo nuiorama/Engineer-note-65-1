{
 "cells": [
  {
   "cell_type": "markdown",
   "metadata": {},
   "source": [
    "![](img/2022-11-11-09-50-23.png) <br>\n",
    "![](img/2022-11-11-09-50-44.png)"
   ]
  },
  {
   "cell_type": "code",
   "execution_count": 1,
   "metadata": {},
   "outputs": [
    {
     "name": "stdout",
     "output_type": "stream",
     "text": [
      "Lr=124.18235332245126\n",
      "r=0.01732050807568877\n",
      "L=2.150901453579553\n",
      "w=8000000.0*2*0.006/2  =48 kN/m\n"
     ]
    }
   ],
   "source": [
    "# find L_cr\n",
    "# find w_bc\n",
    "Ew = 12.5e9\n",
    "sigma_pl = 8e6\n",
    "A = 0.100 *0.060\n",
    "Iy = 0.100*0.060**3/12\n",
    "L_beam = 2\n",
    "\n",
    "from math import pi, sqrt\n",
    "from matplotlib.ticker import EngFormatter\n",
    "eng = lambda n: EngFormatter()(n)\n",
    "# sigma_cr = pi**2*Ew/(L/r)**2\n",
    "# sigma_cr = sigma_pl\n",
    "Lr = sqrt(pi**2*Ew/sigma_pl)\n",
    "print(f\"Lr={Lr}\")\n",
    "r = sqrt(Iy/A)\n",
    "print(f\"r={r}\")\n",
    "L = Lr*r\n",
    "print(f\"L={L}\")\n",
    "\n",
    "# R_By = W*L/2\n",
    "# sigma_pl = R*A = (W*L/2)*A\n",
    "w = sigma_pl*2*A/L_beam\n",
    "print(f\"w={sigma_pl}*2*{A}/{L_beam}  ={eng(w)}N/m\")"
   ]
  }
 ],
 "metadata": {
  "kernelspec": {
   "display_name": "Python 3.10.6 64-bit",
   "language": "python",
   "name": "python3"
  },
  "language_info": {
   "codemirror_mode": {
    "name": "ipython",
    "version": 3
   },
   "file_extension": ".py",
   "mimetype": "text/x-python",
   "name": "python",
   "nbconvert_exporter": "python",
   "pygments_lexer": "ipython3",
   "version": "3.10.6"
  },
  "orig_nbformat": 4,
  "vscode": {
   "interpreter": {
    "hash": "65804c87e60a5b78920b1b9a0b766019d5bfb4aea38a40ed60e26ac3af3a5059"
   }
  }
 },
 "nbformat": 4,
 "nbformat_minor": 2
}
