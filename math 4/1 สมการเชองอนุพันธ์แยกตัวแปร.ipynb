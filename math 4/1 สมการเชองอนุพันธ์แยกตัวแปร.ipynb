{
 "cells": [
  {
   "cell_type": "code",
   "execution_count": 3,
   "metadata": {},
   "outputs": [
    {
     "data": {
      "text/latex": [
       "$\\displaystyle - 0.261007662722764 \\sqrt{\\frac{1}{g}} \\log{\\left(- 1.9156525704423 g \\sqrt{\\frac{1}{g}} + 36.0 \\right)} + 0.261007662722764 \\sqrt{\\frac{1}{g}} \\log{\\left(- 1.9156525704423 g \\sqrt{\\frac{1}{g}} + 1.0 v \\right)} + 0.261007662722764 \\sqrt{\\frac{1}{g}} \\log{\\left(1.9156525704423 g \\sqrt{\\frac{1}{g}} + 36.0 \\right)} - 0.261007662722764 \\sqrt{\\frac{1}{g}} \\log{\\left(1.9156525704423 g \\sqrt{\\frac{1}{g}} + 1.0 v \\right)} = - 0.2725 t$"
      ],
      "text/plain": [
       "Eq(-0.261007662722764*sqrt(1/g)*log(-1.9156525704423*g*sqrt(1/g) + 36.0) + 0.261007662722764*sqrt(1/g)*log(-1.9156525704423*g*sqrt(1/g) + 1.0*v) + 0.261007662722764*sqrt(1/g)*log(1.9156525704423*g*sqrt(1/g) + 36.0) - 0.261007662722764*sqrt(1/g)*log(1.9156525704423*g*sqrt(1/g) + 1.0*v), -0.2725*t)"
      ]
     },
     "execution_count": 3,
     "metadata": {},
     "output_type": "execute_result"
    }
   ],
   "source": [
    "from sympy import *\n",
    "v,t,g = symbols('v, t, g')\n",
    "r = integrate(1/(v**2-g/S(0.2725)), (v,36,v))\n",
    "l = S(-0.2725)*t\n",
    "Eq(r,l)\n",
    "#solve(eq , v)  #unable to solve"
   ]
  },
  {
   "cell_type": "code",
   "execution_count": 3,
   "metadata": {},
   "outputs": [
    {
     "data": {
      "text/plain": [
       "[6.0/tanh(1.635*t + 0.168236118310607)]"
      ]
     },
     "execution_count": 3,
     "metadata": {},
     "output_type": "execute_result"
    }
   ],
   "source": [
    "lhs = log((v-6)/(v+6),E)-log((36-6)/(36+6),E)\n",
    "rhs = 2*6*(-0.2725)*t\n",
    "solve(Eq(logcombine(lhs),rhs),v)"
   ]
  }
 ],
 "metadata": {
  "kernelspec": {
   "display_name": "Python 3",
   "language": "python",
   "name": "python3"
  },
  "language_info": {
   "codemirror_mode": {
    "name": "ipython",
    "version": 3
   },
   "file_extension": ".py",
   "mimetype": "text/x-python",
   "name": "python",
   "nbconvert_exporter": "python",
   "pygments_lexer": "ipython3",
   "version": "3.10.6 | packaged by conda-forge | (main, Aug 22 2022, 20:29:51) [MSC v.1929 64 bit (AMD64)]"
  },
  "orig_nbformat": 4,
  "vscode": {
   "interpreter": {
    "hash": "4b7f3726c4a0aa0a9c9f72d83f99caeda28acd6ee395c79ddc3eb63dc692b85e"
   }
  }
 },
 "nbformat": 4,
 "nbformat_minor": 2
}
