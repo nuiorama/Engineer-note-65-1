{
 "cells": [
  {
   "cell_type": "code",
   "execution_count": 8,
   "metadata": {},
   "outputs": [],
   "source": [
    "from sympy import *\n",
    "v,t = symbols('v, t')\n",
    "r = integrate(1/(v**2-9.81/0.2725), (v,36,v))\n",
    "l = -0.2725*t\n",
    "eq = Eq(r,l)\n",
    "#solve(eq , (v,t))  #unable to solve"
   ]
  }
 ],
 "metadata": {
  "kernelspec": {
   "display_name": "Python 3",
   "language": "python",
   "name": "python3"
  },
  "language_info": {
   "codemirror_mode": {
    "name": "ipython",
    "version": 3
   },
   "file_extension": ".py",
   "mimetype": "text/x-python",
   "name": "python",
   "nbconvert_exporter": "python",
   "pygments_lexer": "ipython3",
   "version": "3.10.6 | packaged by conda-forge | (main, Aug 22 2022, 20:29:51) [MSC v.1929 64 bit (AMD64)]"
  },
  "orig_nbformat": 4,
  "vscode": {
   "interpreter": {
    "hash": "4b7f3726c4a0aa0a9c9f72d83f99caeda28acd6ee395c79ddc3eb63dc692b85e"
   }
  }
 },
 "nbformat": 4,
 "nbformat_minor": 2
}
